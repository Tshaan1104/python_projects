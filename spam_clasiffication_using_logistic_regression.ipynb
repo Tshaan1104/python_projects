{
  "metadata": {
    "kernelspec": {
      "language": "python",
      "display_name": "Python 3",
      "name": "python3"
    },
    "language_info": {
      "name": "python",
      "version": "3.10.13",
      "mimetype": "text/x-python",
      "codemirror_mode": {
        "name": "ipython",
        "version": 3
      },
      "pygments_lexer": "ipython3",
      "nbconvert_exporter": "python",
      "file_extension": ".py"
    },
    "kaggle": {
      "accelerator": "none",
      "dataSources": [
        {
          "sourceId": 998616,
          "sourceType": "datasetVersion",
          "datasetId": 547699
        }
      ],
      "dockerImageVersionId": 30684,
      "isInternetEnabled": true,
      "language": "python",
      "sourceType": "notebook",
      "isGpuEnabled": false
    },
    "colab": {
      "provenance": []
    }
  },
  "nbformat_minor": 0,
  "nbformat": 4,
  "cells": [
    {
      "cell_type": "code",
      "source": [
        "\n",
        "\n",
        "import numpy as np # linear algebra\n",
        "import pandas as pd # data processing, CSV file I/O (e.g. pd.read_csv)\n",
        "\n",
        "\n",
        "import os\n",
        "for dirname, _, filenames in os.walk('/kaggle/input'):\n",
        "    for filename in filenames:\n",
        "        print(os.path.join(dirname, filename))\n",
        "\n"
      ],
      "metadata": {
        "_uuid": "8f2839f25d086af736a60e9eeb907d3b93b6e0e5",
        "_cell_guid": "b1076dfc-b9ad-4769-8c92-a6c4dae69d19",
        "execution": {
          "iopub.status.busy": "2024-04-09T10:37:25.765826Z",
          "iopub.execute_input": "2024-04-09T10:37:25.766181Z",
          "iopub.status.idle": "2024-04-09T10:37:25.775837Z",
          "shell.execute_reply.started": "2024-04-09T10:37:25.766154Z",
          "shell.execute_reply": "2024-04-09T10:37:25.774554Z"
        },
        "trusted": true,
        "id": "TrLSgYDtZGJd",
        "outputId": "f423f1ee-a082-41a1-b67b-6f876fc2d36a"
      },
      "execution_count": null,
      "outputs": [
        {
          "name": "stdout",
          "text": "/kaggle/input/email-spam-classification-dataset-csv/emails.csv\n",
          "output_type": "stream"
        }
      ]
    },
    {
      "cell_type": "code",
      "source": [
        "df = pd.read_csv(\"/kaggle/input/email-spam-classification-dataset-csv/emails.csv\")\n",
        "\n",
        "df.head()"
      ],
      "metadata": {
        "execution": {
          "iopub.status.busy": "2024-04-09T10:37:25.777327Z",
          "iopub.execute_input": "2024-04-09T10:37:25.777800Z",
          "iopub.status.idle": "2024-04-09T10:37:27.228659Z",
          "shell.execute_reply.started": "2024-04-09T10:37:25.777774Z",
          "shell.execute_reply": "2024-04-09T10:37:27.227543Z"
        },
        "trusted": true,
        "id": "fzrnwciSZGJe",
        "outputId": "257db0d7-97ce-4d8a-ab41-3157fa5bbfed"
      },
      "execution_count": null,
      "outputs": [
        {
          "execution_count": 6,
          "output_type": "execute_result",
          "data": {
            "text/plain": "  Email No.  the  to  ect  and  for  of    a  you  hou  ...  connevey  jay  \\\n0   Email 1    0   0    1    0    0   0    2    0    0  ...         0    0   \n1   Email 2    8  13   24    6    6   2  102    1   27  ...         0    0   \n2   Email 3    0   0    1    0    0   0    8    0    0  ...         0    0   \n3   Email 4    0   5   22    0    5   1   51    2   10  ...         0    0   \n4   Email 5    7   6   17    1    5   2   57    0    9  ...         0    0   \n\n   valued  lay  infrastructure  military  allowing  ff  dry  Prediction  \n0       0    0               0         0         0   0    0           0  \n1       0    0               0         0         0   1    0           0  \n2       0    0               0         0         0   0    0           0  \n3       0    0               0         0         0   0    0           0  \n4       0    0               0         0         0   1    0           0  \n\n[5 rows x 3002 columns]",
            "text/html": "<div>\n<style scoped>\n    .dataframe tbody tr th:only-of-type {\n        vertical-align: middle;\n    }\n\n    .dataframe tbody tr th {\n        vertical-align: top;\n    }\n\n    .dataframe thead th {\n        text-align: right;\n    }\n</style>\n<table border=\"1\" class=\"dataframe\">\n  <thead>\n    <tr style=\"text-align: right;\">\n      <th></th>\n      <th>Email No.</th>\n      <th>the</th>\n      <th>to</th>\n      <th>ect</th>\n      <th>and</th>\n      <th>for</th>\n      <th>of</th>\n      <th>a</th>\n      <th>you</th>\n      <th>hou</th>\n      <th>...</th>\n      <th>connevey</th>\n      <th>jay</th>\n      <th>valued</th>\n      <th>lay</th>\n      <th>infrastructure</th>\n      <th>military</th>\n      <th>allowing</th>\n      <th>ff</th>\n      <th>dry</th>\n      <th>Prediction</th>\n    </tr>\n  </thead>\n  <tbody>\n    <tr>\n      <th>0</th>\n      <td>Email 1</td>\n      <td>0</td>\n      <td>0</td>\n      <td>1</td>\n      <td>0</td>\n      <td>0</td>\n      <td>0</td>\n      <td>2</td>\n      <td>0</td>\n      <td>0</td>\n      <td>...</td>\n      <td>0</td>\n      <td>0</td>\n      <td>0</td>\n      <td>0</td>\n      <td>0</td>\n      <td>0</td>\n      <td>0</td>\n      <td>0</td>\n      <td>0</td>\n      <td>0</td>\n    </tr>\n    <tr>\n      <th>1</th>\n      <td>Email 2</td>\n      <td>8</td>\n      <td>13</td>\n      <td>24</td>\n      <td>6</td>\n      <td>6</td>\n      <td>2</td>\n      <td>102</td>\n      <td>1</td>\n      <td>27</td>\n      <td>...</td>\n      <td>0</td>\n      <td>0</td>\n      <td>0</td>\n      <td>0</td>\n      <td>0</td>\n      <td>0</td>\n      <td>0</td>\n      <td>1</td>\n      <td>0</td>\n      <td>0</td>\n    </tr>\n    <tr>\n      <th>2</th>\n      <td>Email 3</td>\n      <td>0</td>\n      <td>0</td>\n      <td>1</td>\n      <td>0</td>\n      <td>0</td>\n      <td>0</td>\n      <td>8</td>\n      <td>0</td>\n      <td>0</td>\n      <td>...</td>\n      <td>0</td>\n      <td>0</td>\n      <td>0</td>\n      <td>0</td>\n      <td>0</td>\n      <td>0</td>\n      <td>0</td>\n      <td>0</td>\n      <td>0</td>\n      <td>0</td>\n    </tr>\n    <tr>\n      <th>3</th>\n      <td>Email 4</td>\n      <td>0</td>\n      <td>5</td>\n      <td>22</td>\n      <td>0</td>\n      <td>5</td>\n      <td>1</td>\n      <td>51</td>\n      <td>2</td>\n      <td>10</td>\n      <td>...</td>\n      <td>0</td>\n      <td>0</td>\n      <td>0</td>\n      <td>0</td>\n      <td>0</td>\n      <td>0</td>\n      <td>0</td>\n      <td>0</td>\n      <td>0</td>\n      <td>0</td>\n    </tr>\n    <tr>\n      <th>4</th>\n      <td>Email 5</td>\n      <td>7</td>\n      <td>6</td>\n      <td>17</td>\n      <td>1</td>\n      <td>5</td>\n      <td>2</td>\n      <td>57</td>\n      <td>0</td>\n      <td>9</td>\n      <td>...</td>\n      <td>0</td>\n      <td>0</td>\n      <td>0</td>\n      <td>0</td>\n      <td>0</td>\n      <td>0</td>\n      <td>0</td>\n      <td>1</td>\n      <td>0</td>\n      <td>0</td>\n    </tr>\n  </tbody>\n</table>\n<p>5 rows × 3002 columns</p>\n</div>"
          },
          "metadata": {}
        }
      ]
    },
    {
      "cell_type": "code",
      "source": [
        "df.info()"
      ],
      "metadata": {
        "execution": {
          "iopub.status.busy": "2024-04-09T10:37:27.230394Z",
          "iopub.execute_input": "2024-04-09T10:37:27.230815Z",
          "iopub.status.idle": "2024-04-09T10:37:27.336490Z",
          "shell.execute_reply.started": "2024-04-09T10:37:27.230779Z",
          "shell.execute_reply": "2024-04-09T10:37:27.335547Z"
        },
        "trusted": true,
        "id": "9shNN7reZGJf",
        "outputId": "1a5348c3-1086-4ade-eab5-0542e0562143"
      },
      "execution_count": null,
      "outputs": [
        {
          "name": "stdout",
          "text": "<class 'pandas.core.frame.DataFrame'>\nRangeIndex: 5172 entries, 0 to 5171\nColumns: 3002 entries, Email No. to Prediction\ndtypes: int64(3001), object(1)\nmemory usage: 118.5+ MB\n",
          "output_type": "stream"
        }
      ]
    },
    {
      "cell_type": "code",
      "source": [
        "X = df.iloc[:, 1:-1]\n",
        "y = df.Prediction"
      ],
      "metadata": {
        "execution": {
          "iopub.status.busy": "2024-04-09T10:41:58.738241Z",
          "iopub.execute_input": "2024-04-09T10:41:58.738946Z",
          "iopub.status.idle": "2024-04-09T10:41:58.782529Z",
          "shell.execute_reply.started": "2024-04-09T10:41:58.738913Z",
          "shell.execute_reply": "2024-04-09T10:41:58.781660Z"
        },
        "trusted": true,
        "id": "Y9WBB8bwZGJf"
      },
      "execution_count": null,
      "outputs": []
    },
    {
      "cell_type": "code",
      "source": [
        "from sklearn.model_selection import train_test_split\n",
        "from sklearn.linear_model import LogisticRegression\n",
        "from sklearn.metrics import classification_report, confusion_matrix, ConfusionMatrixDisplay\n",
        "\n",
        "def make_model(X, y):\n",
        "    # split dataset\n",
        "    X_train, X_test, y_train, y_test = train_test_split(X, y, stratify=y, test_size=0.25, random_state=42)\n",
        "\n",
        "    # build model\n",
        "    LR = LogisticRegression(random_state=0)\n",
        "    LR.fit(X_train, y_train)\n",
        "\n",
        "    # evaluate model\n",
        "    y_pred = LR.predict(X_test)\n",
        "    cr = classification_report(y_test, y_pred)\n",
        "    cm = confusion_matrix(y_test, y_pred)\n",
        "\n",
        "    return LR, cr, cm\n",
        "\n",
        "_, cr, cm = make_model(X, y)"
      ],
      "metadata": {
        "execution": {
          "iopub.status.busy": "2024-04-09T10:45:21.923031Z",
          "iopub.execute_input": "2024-04-09T10:45:21.924079Z",
          "iopub.status.idle": "2024-04-09T10:45:23.294942Z",
          "shell.execute_reply.started": "2024-04-09T10:45:21.924045Z",
          "shell.execute_reply": "2024-04-09T10:45:23.293812Z"
        },
        "trusted": true,
        "id": "AKWoQypnZGJf",
        "outputId": "ef0b9913-3c47-4a21-ec25-923d3c358693"
      },
      "execution_count": null,
      "outputs": [
        {
          "name": "stderr",
          "text": "/opt/conda/lib/python3.10/site-packages/sklearn/linear_model/_logistic.py:458: ConvergenceWarning: lbfgs failed to converge (status=1):\nSTOP: TOTAL NO. of ITERATIONS REACHED LIMIT.\n\nIncrease the number of iterations (max_iter) or scale the data as shown in:\n    https://scikit-learn.org/stable/modules/preprocessing.html\nPlease also refer to the documentation for alternative solver options:\n    https://scikit-learn.org/stable/modules/linear_model.html#logistic-regression\n  n_iter_i = _check_optimize_result(\n",
          "output_type": "stream"
        }
      ]
    },
    {
      "cell_type": "code",
      "source": [
        "print(cr)"
      ],
      "metadata": {
        "execution": {
          "iopub.status.busy": "2024-04-09T10:45:23.297164Z",
          "iopub.execute_input": "2024-04-09T10:45:23.297995Z",
          "iopub.status.idle": "2024-04-09T10:45:23.303865Z",
          "shell.execute_reply.started": "2024-04-09T10:45:23.297953Z",
          "shell.execute_reply": "2024-04-09T10:45:23.302837Z"
        },
        "trusted": true,
        "id": "2EInw1QLZGJg",
        "outputId": "f882b132-6225-4ba9-9c9f-4189425fd808"
      },
      "execution_count": null,
      "outputs": [
        {
          "name": "stdout",
          "text": "              precision    recall  f1-score   support\n\n           0       0.98      0.97      0.97       918\n           1       0.93      0.94      0.94       375\n\n    accuracy                           0.96      1293\n   macro avg       0.95      0.96      0.96      1293\nweighted avg       0.96      0.96      0.96      1293\n\n",
          "output_type": "stream"
        }
      ]
    },
    {
      "cell_type": "code",
      "source": [
        "ConfusionMatrixDisplay(cm).plot()"
      ],
      "metadata": {
        "execution": {
          "iopub.status.busy": "2024-04-09T10:45:23.575091Z",
          "iopub.execute_input": "2024-04-09T10:45:23.575442Z",
          "iopub.status.idle": "2024-04-09T10:45:23.856136Z",
          "shell.execute_reply.started": "2024-04-09T10:45:23.575417Z",
          "shell.execute_reply": "2024-04-09T10:45:23.855030Z"
        },
        "trusted": true,
        "id": "gOOdKNR6ZGJg",
        "outputId": "5ffdeb0b-1496-4608-ed94-39239f3c03cf"
      },
      "execution_count": null,
      "outputs": [
        {
          "execution_count": 25,
          "output_type": "execute_result",
          "data": {
            "text/plain": "<sklearn.metrics._plot.confusion_matrix.ConfusionMatrixDisplay at 0x7dde6634fdf0>"
          },
          "metadata": {}
        },
        {
          "output_type": "display_data",
          "data": {
            "text/plain": "<Figure size 640x480 with 2 Axes>",
            "image/png": "[encoded data removed]"
          },
          "metadata": {}
        }
      ]
    },
    {
      "cell_type": "markdown",
      "source": [
        "# Feature Selection using PCA"
      ],
      "metadata": {
        "id": "irEKY7I9ZGJg"
      }
    },
    {
      "cell_type": "code",
      "source": [
        "from sklearn.decomposition import PCA\n",
        "\n",
        "pca = PCA(n_components=1000)\n",
        "\n",
        "X_new = pca.fit_transform(X)"
      ],
      "metadata": {
        "execution": {
          "iopub.status.busy": "2024-04-09T10:58:33.348246Z",
          "iopub.execute_input": "2024-04-09T10:58:33.349119Z",
          "iopub.status.idle": "2024-04-09T10:58:42.147092Z",
          "shell.execute_reply.started": "2024-04-09T10:58:33.349087Z",
          "shell.execute_reply": "2024-04-09T10:58:42.145859Z"
        },
        "trusted": true,
        "id": "YIKYhlw3ZGJh"
      },
      "execution_count": null,
      "outputs": []
    },
    {
      "cell_type": "code",
      "source": [
        "_, cr, cm = make_model(X_new, y)\n",
        "\n",
        "print(cr)\n",
        "\n",
        "ConfusionMatrixDisplay(cm).plot()"
      ],
      "metadata": {
        "execution": {
          "iopub.status.busy": "2024-04-09T10:58:42.150083Z",
          "iopub.execute_input": "2024-04-09T10:58:42.150770Z",
          "iopub.status.idle": "2024-04-09T10:58:42.773231Z",
          "shell.execute_reply.started": "2024-04-09T10:58:42.150730Z",
          "shell.execute_reply": "2024-04-09T10:58:42.772049Z"
        },
        "trusted": true,
        "id": "XRjVTvdvZGJh",
        "outputId": "9c908768-89b3-46f4-fbe3-cfac9ae673b4"
      },
      "execution_count": null,
      "outputs": [
        {
          "name": "stdout",
          "text": "              precision    recall  f1-score   support\n\n           0       0.99      0.97      0.98       918\n           1       0.94      0.97      0.95       375\n\n    accuracy                           0.97      1293\n   macro avg       0.96      0.97      0.97      1293\nweighted avg       0.97      0.97      0.97      1293\n\n",
          "output_type": "stream"
        },
        {
          "name": "stderr",
          "text": "/opt/conda/lib/python3.10/site-packages/sklearn/linear_model/_logistic.py:458: ConvergenceWarning: lbfgs failed to converge (status=1):\nSTOP: TOTAL NO. of ITERATIONS REACHED LIMIT.\n\nIncrease the number of iterations (max_iter) or scale the data as shown in:\n    https://scikit-learn.org/stable/modules/preprocessing.html\nPlease also refer to the documentation for alternative solver options:\n    https://scikit-learn.org/stable/modules/linear_model.html#logistic-regression\n  n_iter_i = _check_optimize_result(\n",
          "output_type": "stream"
        },
        {
          "execution_count": 57,
          "output_type": "execute_result",
          "data": {
            "text/plain": "<sklearn.metrics._plot.confusion_matrix.ConfusionMatrixDisplay at 0x7dde5e972290>"
          },
          "metadata": {}
        },
        {
          "output_type": "display_data",
          "data": {
            "text/plain": "<Figure size 640x480 with 2 Axes>",
            "image/png": "[encoded data removed]"
          },
          "metadata": {}
        }
      ]
    }
  ]
}